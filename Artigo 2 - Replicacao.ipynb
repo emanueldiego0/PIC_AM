{
 "cells": [
  {
   "cell_type": "code",
   "execution_count": 174,
   "metadata": {},
   "outputs": [
    {
     "data": {
      "text/plain": [
       "'C:\\\\Users\\\\Emanuel\\\\Downloads\\\\PIC\\\\PIC_AM'"
      ]
     },
     "execution_count": 174,
     "metadata": {},
     "output_type": "execute_result"
    }
   ],
   "source": [
    "import os\n",
    "import glob\n",
    "import imageio\n",
    "import numpy as np\n",
    "import matplotlib.pyplot as plt\n",
    "import cv2\n",
    "import warnings\n",
    "from tqdm import tnrange, tqdm_notebook\n",
    "from time import sleep, time\n",
    "from sklearn.neighbors import KNeighborsClassifier\n",
    "from sklearn.model_selection import train_test_split\n",
    "\n",
    "%matplotlib inline\n",
    "\n",
    "warnings.filterwarnings('ignore')\n",
    "HOLDOUT = 10\n",
    "R = 0.01\n",
    "os.chdir(\"C:\\\\Users\\\\Emanuel\\\\Downloads\\\\PIC\\\\PIC_AM\")\n",
    "os.getcwd()"
   ]
  },
  {
   "cell_type": "code",
   "execution_count": 175,
   "metadata": {},
   "outputs": [],
   "source": [
    "def CarregarYaleFaces():\n",
    "    files = glob.glob(\"databases/yalefaces/*\")\n",
    "    images_yale = [np.array(imageio.mimread(file))[0] for file in files]\n",
    "    images_yale_resized = [cv2.resize(image, dsize=(28, 23), interpolation=cv2.INTER_CUBIC) for image in images_yale]\n",
    "    images_yale_resized = np.array(images_yale_resized)\n",
    "    images_yale_flatten = [image.flatten() for image in images_yale_resized]\n",
    "    images_yale_flatten = np.array(images_yale_flatten)\n",
    "    #print('#Amostras (n): '+str(images_yale_flatten.shape[0]))\n",
    "    #print('#Features (m): '+str(images_yale_flatten.shape[1]))\n",
    "    Y = [f.split('.')[0] for f in files]\n",
    "    return images_yale_flatten, Y"
   ]
  },
  {
   "cell_type": "code",
   "execution_count": 176,
   "metadata": {},
   "outputs": [],
   "source": [
    "def CarregarAtt():\n",
    "    folders = glob.glob(\"databases/att_faces/*\")\n",
    "    images_att = []\n",
    "    Y = []\n",
    "    \n",
    "    for f in folders:\n",
    "        files = glob.glob(f+\"/*\")\n",
    "        #images = [np.array(imageio.mimread(file))[0] for file in files]\n",
    "        images = [cv2.imread(file,-1)[0] for file in files]\n",
    "        images_resized = [cv2.resize(image, dsize=(28, 23), interpolation=cv2.INTER_CUBIC) for image in images]\n",
    "        #mages_resized = np.array(images_resized)\n",
    "        images_flatten = [image.flatten() for image in images_resized]\n",
    "        #mages_flatten = np.array(images_flatten)\n",
    "        images_att.extend(images_flatten)\n",
    "        Y.extend([f] * 10)\n",
    "    return np.array(images_att), Y\n",
    "    #return folders"
   ]
  },
  {
   "cell_type": "code",
   "execution_count": 177,
   "metadata": {},
   "outputs": [],
   "source": [
    "def CarregarSheffield():\n",
    "    folders = glob.glob(\"databases/sheffield/cropped/*\")\n",
    "    images_sheffield = []\n",
    "    Y = []\n",
    "    \n",
    "    for f in folders:\n",
    "        files = glob.glob(f+\"/face/*\")\n",
    "        images = [cv2.imread(file,-1)[0] for file in files]\n",
    "        images_resized = [cv2.resize(image, dsize=(28, 23), interpolation=cv2.INTER_CUBIC) for image in images]\n",
    "        images_flatten = [image.flatten() for image in images_resized]\n",
    "        images_sheffield.extend(images_flatten)\n",
    "        Y.extend([f] * len(files))\n",
    "    return np.array(images_sheffield), Y"
   ]
  },
  {
   "cell_type": "code",
   "execution_count": 178,
   "metadata": {},
   "outputs": [
    {
     "name": "stdout",
     "output_type": "stream",
     "text": [
      "(165, 644)\n",
      "(400, 644)\n",
      "(575, 644)\n"
     ]
    }
   ],
   "source": [
    "print(CarregarYaleFaces()[0].shape)\n",
    "print(CarregarAtt()[0].shape)\n",
    "print(CarregarSheffield()[0].shape)"
   ]
  },
  {
   "cell_type": "code",
   "execution_count": 179,
   "metadata": {},
   "outputs": [],
   "source": [
    "def PCA(X, W, k):\n",
    "    n = X.shape[0]\n",
    "    m = X.shape[1]\n",
    "    mean = np.mean(X, axis = 0)\n",
    "    #matriz de covariancia m x m\n",
    "    C = np.zeros((m, m))\n",
    "    for i in range(n):\n",
    "        a = X[i].T.reshape(m,1) - mean.T.reshape(m,1)\n",
    "        b = X[i] - mean\n",
    "        C = C + (a * b)\n",
    "    C = 1./n * C\n",
    "    val, vec = np.linalg.eig(C)\n",
    "    X_ = vec.T.dot((X - mean).T)\n",
    "    X__ = vec.T.dot((W - mean).T)\n",
    "    return X_.T[:,:k], X__.T[:,:k]"
   ]
  },
  {
   "cell_type": "code",
   "execution_count": 180,
   "metadata": {},
   "outputs": [],
   "source": [
    "def FPCA(X, W, k, r):\n",
    "    n = X.shape[0]\n",
    "    m = X.shape[1]\n",
    "    mean = np.mean(X, axis = 0)\n",
    "    mean = np.power(mean, r)\n",
    "    X = np.power(X, r)\n",
    "    W = np.power(W, r)\n",
    "    #matriz de covariancia m x m\n",
    "    C = np.zeros((m, m))\n",
    "    for i in range(n):\n",
    "        a = X[i].T.reshape(m,1) - mean.T.reshape(m,1)\n",
    "        #b = X[i] - mean\n",
    "        b = a.T\n",
    "        C = C + (a * b)\n",
    "    C = 1./n * C\n",
    "    val, vec = np.linalg.eig(C)\n",
    "    #val = np.abs(val)\n",
    "    X_ = vec.T.dot((X - mean).T)\n",
    "    X__ = vec.T.dot((W - mean).T)\n",
    "    return X_.T[:,:k], X__.T[:,:k]\n"
   ]
  },
  {
   "cell_type": "code",
   "execution_count": 181,
   "metadata": {},
   "outputs": [],
   "source": [
    "def Eigenfaces(X, W, k):\n",
    "    n = X.shape[0]\n",
    "    m = X.shape[1]\n",
    "    mean = np.mean(X, axis = 0)\n",
    "    D = np.zeros((n, n))\n",
    "    for j in range(m):\n",
    "        a = X[:,j] - X[:,j].mean()\n",
    "        a = a.reshape(n,1)\n",
    "        b = a.T\n",
    "        D = D + (a * b)\n",
    "    val, vec = np.linalg.eig(D)\n",
    "    val = np.abs(val)\n",
    "    vec_c = 1. / np.power((n * val), 0.5) #eq 7\n",
    "    vec_c = vec_c * (X - mean).T.dot(vec) #eq 7\n",
    "    X_ = vec_c.T.dot((X - mean).T)\n",
    "    X__ = vec_c.T.dot((W - mean).T)\n",
    "    return X_.T[:,:k], X__.T[:,:k]"
   ]
  },
  {
   "cell_type": "code",
   "execution_count": 182,
   "metadata": {},
   "outputs": [],
   "source": [
    "def F_Eigenfaces(X, W, k, r):\n",
    "    n = X.shape[0]\n",
    "    m = X.shape[1]\n",
    "    mean = np.mean(X, axis = 0)\n",
    "    D = np.zeros((n, n))\n",
    "    for j in range(m):\n",
    "        a = np.power(X[:,j], r) - np.power(X[:,j].mean(), r)\n",
    "        a = a.reshape(n,1)\n",
    "        b = a.T\n",
    "        D = D + (a * b)\n",
    "    val, vec = np.linalg.eig(D)\n",
    "    val = np.abs(val)\n",
    "    vec_c = 1. / np.power((n * val), 0.5)\n",
    "    vec_c = vec_c * (np.power(X, r) - np.power(mean,r)).T.dot(vec)\n",
    "    X_ = vec_c.T.dot((np.power(X,r) - np.power(mean,r)).T)\n",
    "    X__ = vec_c.T.dot((np.power(W,r) - np.power(mean,r)).T)\n",
    "    return X_.T[:,:k], X__.T[:,:k]"
   ]
  },
  {
   "cell_type": "code",
   "execution_count": 183,
   "metadata": {},
   "outputs": [],
   "source": [
    "def AvaliarClassificadores(X, Y):\n",
    "    scores_1nn = []\n",
    "    \n",
    "    for i in range(HOLDOUT):\n",
    "        X_train, X_test, y_train, y_test = train_test_split(X, Y, test_size=0.5, random_state=0)\n",
    "        clf_1nn = KNeighborsClassifier(n_neighbors=1).fit(X_train, y_train)\n",
    "        scores_1nn.append(clf_1nn.score(X_test, y_test))\n",
    "\n",
    "    scores_1nn = np.array(scores_1nn).mean() * 100\n",
    "    return scores_1nn"
   ]
  },
  {
   "cell_type": "code",
   "execution_count": 184,
   "metadata": {},
   "outputs": [],
   "source": [
    "def AvaliarClassificadores2(X_train, X_test, y_train, y_test):\n",
    "    \n",
    "    clf_1nn = KNeighborsClassifier(n_neighbors=1).fit(X_train, y_train)\n",
    "    return clf_1nn.score(X_test, y_test) * 100"
   ]
  },
  {
   "cell_type": "code",
   "execution_count": 205,
   "metadata": {},
   "outputs": [],
   "source": [
    "def Experimento(X, Y):\n",
    "    acc = []\n",
    "    std = []\n",
    "    \n",
    "    n_componentes = 1\n",
    "    \n",
    "    #for i in tqdm(range(1, 16)):\n",
    "    for i in tnrange(15, desc='Progresso '):\n",
    "    \n",
    "        #print('# Progresso :'+str(n_componentes)+'/70')\n",
    "        \n",
    "        #s_pca = []\n",
    "        s_fpca = []\n",
    "        s_eige = []\n",
    "        s_feig = []\n",
    "\n",
    "        #for j in range(HOLDOUT):\n",
    "        for j in tqdm_notebook(range(HOLDOUT), desc='Nº c:{0}'.format(n_componentes)):\n",
    "        \n",
    "            X_train, X_test, y_train, y_test = train_test_split(X, Y, test_size=0.5, random_state= round(time()) + 15 * j)\n",
    "            #print(X_train)\n",
    "\n",
    "            #gerar os conjuntos de treino e teste transformados\n",
    "            #X_pca_train, X_pca_test  = PCA(X_train, X_test, n_componentes)\n",
    "            X_fpca_train, X_fpca_test = FPCA(X_train, X_test, n_componentes, R)\n",
    "            X_eige_train, X_eige_test = Eigenfaces(X_train, X_test, n_componentes)\n",
    "            X_feig_train, X_feig_test = F_Eigenfaces(X_train, X_test, n_componentes, R)\n",
    "\n",
    "            #acuracias\n",
    "            #s_pca.append(AvaliarClassificadores2(X_pca_train, X_pca_test, y_train, y_test))X_eige_test\n",
    "            s_fpca.append(AvaliarClassificadores2(X_fpca_train, X_fpca_test, y_train, y_test))\n",
    "            s_eige.append(AvaliarClassificadores2(X_eige_train, X_eige_test, y_train, y_test))\n",
    "            s_feig.append(AvaliarClassificadores2(X_feig_train, X_feig_test, y_train, y_test))\n",
    "\n",
    "        #print(s_fpca)\n",
    "        acc.append([#np.array(s_pca).mean(),\n",
    "                    np.array(s_fpca).mean(),\n",
    "                    np.array(s_eige).mean(),\n",
    "                    np.array(s_feig).mean()])\n",
    "        \n",
    "        std.append([#np.std(s_pca),\n",
    "                    np.std(s_fpca) / 100,\n",
    "                    np.std(s_eige) / 100,\n",
    "                    np.std(s_feig) / 100])\n",
    "        \n",
    "        if(n_componentes == 1):\n",
    "            n_componentes += 4\n",
    "        else:\n",
    "            n_componentes += 5\n",
    "            \n",
    "            sleep(0.01)\n",
    "        \n",
    "    return np.array(acc), np.array(std)"
   ]
  },
  {
   "cell_type": "code",
   "execution_count": 206,
   "metadata": {},
   "outputs": [],
   "source": [
    "def ImprimirResultados(acc, dataset_name):\n",
    "    \n",
    "    x = np.arange(0, 15)\n",
    "    x = x * 5\n",
    "    x[0] += 1\n",
    "    print(len(x))\n",
    "    #plt.figure(figsize=(20,15))\n",
    "    plt.title(\"Dataset: \"+dataset_name+\" - Classifier: 1-NN\")\n",
    "    #plt.plot(x, acc_yale[:,0], color='black')\n",
    "    plt.plot(x, acc[:,0], color='red')\n",
    "    plt.plot(x, acc[:,1], color='blue')\n",
    "    plt.plot(x, acc[:,2], color='orange')\n",
    "    plt.ylabel('Acuracia media')\n",
    "    plt.xlabel('Numero de componentes')\n",
    "    #plt.legend(labels=['PCA','FPCA','Eigenfaces','F Eigenfaces'])\n",
    "    plt.legend(labels=['FPCA','Eigenfaces','F Eigenfaces'])\n",
    "    plt.grid()\n",
    "    plt.show()"
   ]
  },
  {
   "cell_type": "code",
   "execution_count": 207,
   "metadata": {},
   "outputs": [],
   "source": [
    "def ImprimirTabela(acc, std):\n",
    "    i = 1\n",
    "    for a, s in zip(acc, std):\n",
    "        print(str(i)+\"\\t{0:.3f}\".format(a[0])+\" +-\"+\"{0:.3f}\".format(s[0])+\n",
    "              \"\\t\"+\"{0:.3f}\".format(a[1])+\" +-\"+\"{0:.3f}\".format(s[1])+\n",
    "              \"\\t\"+\"{0:.3f}\".format(a[2])+\" +-\"+\"{0:.3f}\".format(s[2]))\n",
    "        if(i == 1):\n",
    "            i += 4\n",
    "        else:\n",
    "            i += 5"
   ]
  },
  {
   "cell_type": "code",
   "execution_count": null,
   "metadata": {},
   "outputs": [
    {
     "name": "stdout",
     "output_type": "stream",
     "text": [
      "---Yale---\n"
     ]
    },
    {
     "data": {
      "application/vnd.jupyter.widget-view+json": {
       "model_id": "9f265fc8120d497aa841b5f1c0f0a69e",
       "version_major": 2,
       "version_minor": 0
      },
      "text/plain": [
       "HBox(children=(IntProgress(value=0, description='Progresso ', max=15), HTML(value='')))"
      ]
     },
     "metadata": {},
     "output_type": "display_data"
    },
    {
     "data": {
      "application/vnd.jupyter.widget-view+json": {
       "model_id": "6c4a4fe30bc4486faa42cb1d4f6f430e",
       "version_major": 2,
       "version_minor": 0
      },
      "text/plain": [
       "HBox(children=(IntProgress(value=0, description='Nº c:1', max=10), HTML(value='')))"
      ]
     },
     "metadata": {},
     "output_type": "display_data"
    },
    {
     "data": {
      "application/vnd.jupyter.widget-view+json": {
       "model_id": "175ca4d90cdf4526824b247612ad8e9d",
       "version_major": 2,
       "version_minor": 0
      },
      "text/plain": [
       "HBox(children=(IntProgress(value=0, description='Nº c:5', max=10), HTML(value='')))"
      ]
     },
     "metadata": {},
     "output_type": "display_data"
    },
    {
     "data": {
      "application/vnd.jupyter.widget-view+json": {
       "model_id": "7336b87f4a184965b236329286c769db",
       "version_major": 2,
       "version_minor": 0
      },
      "text/plain": [
       "HBox(children=(IntProgress(value=0, description='Nº c:10', max=10), HTML(value='')))"
      ]
     },
     "metadata": {},
     "output_type": "display_data"
    },
    {
     "data": {
      "application/vnd.jupyter.widget-view+json": {
       "model_id": "2556e71bc06c4ed48ea832d2e7845ddc",
       "version_major": 2,
       "version_minor": 0
      },
      "text/plain": [
       "HBox(children=(IntProgress(value=0, description='Nº c:15', max=10), HTML(value='')))"
      ]
     },
     "metadata": {},
     "output_type": "display_data"
    },
    {
     "data": {
      "application/vnd.jupyter.widget-view+json": {
       "model_id": "c9b717fe060f41018f38373d89938118",
       "version_major": 2,
       "version_minor": 0
      },
      "text/plain": [
       "HBox(children=(IntProgress(value=0, description='Nº c:20', max=10), HTML(value='')))"
      ]
     },
     "metadata": {},
     "output_type": "display_data"
    },
    {
     "data": {
      "application/vnd.jupyter.widget-view+json": {
       "model_id": "71ef0ba9542941119a6e36c568ba22a0",
       "version_major": 2,
       "version_minor": 0
      },
      "text/plain": [
       "HBox(children=(IntProgress(value=0, description='Nº c:25', max=10), HTML(value='')))"
      ]
     },
     "metadata": {},
     "output_type": "display_data"
    },
    {
     "data": {
      "application/vnd.jupyter.widget-view+json": {
       "model_id": "fb3e43031f7a430d9b52fd3c8ecbff16",
       "version_major": 2,
       "version_minor": 0
      },
      "text/plain": [
       "HBox(children=(IntProgress(value=0, description='Nº c:30', max=10), HTML(value='')))"
      ]
     },
     "metadata": {},
     "output_type": "display_data"
    },
    {
     "data": {
      "application/vnd.jupyter.widget-view+json": {
       "model_id": "4a2672c035df4b3aa6576bda228f13ab",
       "version_major": 2,
       "version_minor": 0
      },
      "text/plain": [
       "HBox(children=(IntProgress(value=0, description='Nº c:35', max=10), HTML(value='')))"
      ]
     },
     "metadata": {},
     "output_type": "display_data"
    },
    {
     "data": {
      "application/vnd.jupyter.widget-view+json": {
       "model_id": "07f898762c6946a78f942005db4404ad",
       "version_major": 2,
       "version_minor": 0
      },
      "text/plain": [
       "HBox(children=(IntProgress(value=0, description='Nº c:40', max=10), HTML(value='')))"
      ]
     },
     "metadata": {},
     "output_type": "display_data"
    },
    {
     "data": {
      "application/vnd.jupyter.widget-view+json": {
       "model_id": "cd129f04090849b98513584c9a548d1b",
       "version_major": 2,
       "version_minor": 0
      },
      "text/plain": [
       "HBox(children=(IntProgress(value=0, description='Nº c:45', max=10), HTML(value='')))"
      ]
     },
     "metadata": {},
     "output_type": "display_data"
    },
    {
     "data": {
      "application/vnd.jupyter.widget-view+json": {
       "model_id": "88dc10ab8b67422f8a6a5d68f7eaa3f5",
       "version_major": 2,
       "version_minor": 0
      },
      "text/plain": [
       "HBox(children=(IntProgress(value=0, description='Nº c:50', max=10), HTML(value='')))"
      ]
     },
     "metadata": {},
     "output_type": "display_data"
    },
    {
     "data": {
      "application/vnd.jupyter.widget-view+json": {
       "model_id": "ffc4892330514c14be1b1b0f25f6f0c0",
       "version_major": 2,
       "version_minor": 0
      },
      "text/plain": [
       "HBox(children=(IntProgress(value=0, description='Nº c:55', max=10), HTML(value='')))"
      ]
     },
     "metadata": {},
     "output_type": "display_data"
    },
    {
     "data": {
      "application/vnd.jupyter.widget-view+json": {
       "model_id": "05c03bbaf40c4009a2f2fe825685205a",
       "version_major": 2,
       "version_minor": 0
      },
      "text/plain": [
       "HBox(children=(IntProgress(value=0, description='Nº c:60', max=10), HTML(value='')))"
      ]
     },
     "metadata": {},
     "output_type": "display_data"
    },
    {
     "data": {
      "application/vnd.jupyter.widget-view+json": {
       "model_id": "0a0dc811403d4f4aa5eee853e920c856",
       "version_major": 2,
       "version_minor": 0
      },
      "text/plain": [
       "HBox(children=(IntProgress(value=0, description='Nº c:65', max=10), HTML(value='')))"
      ]
     },
     "metadata": {},
     "output_type": "display_data"
    },
    {
     "data": {
      "application/vnd.jupyter.widget-view+json": {
       "model_id": "9f43db9cab2d488ca6491d44ce6e8752",
       "version_major": 2,
       "version_minor": 0
      },
      "text/plain": [
       "HBox(children=(IntProgress(value=0, description='Nº c:70', max=10), HTML(value='')))"
      ]
     },
     "metadata": {},
     "output_type": "display_data"
    },
    {
     "name": "stdout",
     "output_type": "stream",
     "text": [
      "---AT&T---\n"
     ]
    },
    {
     "data": {
      "application/vnd.jupyter.widget-view+json": {
       "model_id": "e14ff4c38c194a92ad7abf5913deb38b",
       "version_major": 2,
       "version_minor": 0
      },
      "text/plain": [
       "HBox(children=(IntProgress(value=0, description='Progresso ', max=15), HTML(value='')))"
      ]
     },
     "metadata": {},
     "output_type": "display_data"
    },
    {
     "data": {
      "application/vnd.jupyter.widget-view+json": {
       "model_id": "17952f1a20444ac6b0c38757244fb4a9",
       "version_major": 2,
       "version_minor": 0
      },
      "text/plain": [
       "HBox(children=(IntProgress(value=0, description='Nº c:1', max=10), HTML(value='')))"
      ]
     },
     "metadata": {},
     "output_type": "display_data"
    },
    {
     "data": {
      "application/vnd.jupyter.widget-view+json": {
       "model_id": "458641c9814042fb86c50b2e73665037",
       "version_major": 2,
       "version_minor": 0
      },
      "text/plain": [
       "HBox(children=(IntProgress(value=0, description='Nº c:5', max=10), HTML(value='')))"
      ]
     },
     "metadata": {},
     "output_type": "display_data"
    },
    {
     "data": {
      "application/vnd.jupyter.widget-view+json": {
       "model_id": "a4a1497ea1a14f449c0cc90ba3b8445c",
       "version_major": 2,
       "version_minor": 0
      },
      "text/plain": [
       "HBox(children=(IntProgress(value=0, description='Nº c:10', max=10), HTML(value='')))"
      ]
     },
     "metadata": {},
     "output_type": "display_data"
    },
    {
     "data": {
      "application/vnd.jupyter.widget-view+json": {
       "model_id": "20cdb302ea4f47fbafcad72ef2d9585d",
       "version_major": 2,
       "version_minor": 0
      },
      "text/plain": [
       "HBox(children=(IntProgress(value=0, description='Nº c:15', max=10), HTML(value='')))"
      ]
     },
     "metadata": {},
     "output_type": "display_data"
    },
    {
     "data": {
      "application/vnd.jupyter.widget-view+json": {
       "model_id": "2f1a6d4d0e244dde99ea562f5e150868",
       "version_major": 2,
       "version_minor": 0
      },
      "text/plain": [
       "HBox(children=(IntProgress(value=0, description='Nº c:20', max=10), HTML(value='')))"
      ]
     },
     "metadata": {},
     "output_type": "display_data"
    },
    {
     "data": {
      "application/vnd.jupyter.widget-view+json": {
       "model_id": "22f772f5cc96439688dedb3b7f443bbb",
       "version_major": 2,
       "version_minor": 0
      },
      "text/plain": [
       "HBox(children=(IntProgress(value=0, description='Nº c:25', max=10), HTML(value='')))"
      ]
     },
     "metadata": {},
     "output_type": "display_data"
    },
    {
     "data": {
      "application/vnd.jupyter.widget-view+json": {
       "model_id": "1aee60072b62494ebe87b9207ad875ef",
       "version_major": 2,
       "version_minor": 0
      },
      "text/plain": [
       "HBox(children=(IntProgress(value=0, description='Nº c:30', max=10), HTML(value='')))"
      ]
     },
     "metadata": {},
     "output_type": "display_data"
    },
    {
     "data": {
      "application/vnd.jupyter.widget-view+json": {
       "model_id": "13bf1c1d2a37432a83e0a1ef79b9011d",
       "version_major": 2,
       "version_minor": 0
      },
      "text/plain": [
       "HBox(children=(IntProgress(value=0, description='Nº c:35', max=10), HTML(value='')))"
      ]
     },
     "metadata": {},
     "output_type": "display_data"
    },
    {
     "data": {
      "application/vnd.jupyter.widget-view+json": {
       "model_id": "d9e1aea0d53d4bae84656a931c74eee8",
       "version_major": 2,
       "version_minor": 0
      },
      "text/plain": [
       "HBox(children=(IntProgress(value=0, description='Nº c:40', max=10), HTML(value='')))"
      ]
     },
     "metadata": {},
     "output_type": "display_data"
    },
    {
     "data": {
      "application/vnd.jupyter.widget-view+json": {
       "model_id": "7a3258c2eaff4b8698c88139e7cb38bf",
       "version_major": 2,
       "version_minor": 0
      },
      "text/plain": [
       "HBox(children=(IntProgress(value=0, description='Nº c:45', max=10), HTML(value='')))"
      ]
     },
     "metadata": {},
     "output_type": "display_data"
    },
    {
     "data": {
      "application/vnd.jupyter.widget-view+json": {
       "model_id": "58bfaf8765c74a70b7c29a0fa3106a10",
       "version_major": 2,
       "version_minor": 0
      },
      "text/plain": [
       "HBox(children=(IntProgress(value=0, description='Nº c:50', max=10), HTML(value='')))"
      ]
     },
     "metadata": {},
     "output_type": "display_data"
    },
    {
     "data": {
      "application/vnd.jupyter.widget-view+json": {
       "model_id": "328ad4fe67e940458ac8c9b408b6edd0",
       "version_major": 2,
       "version_minor": 0
      },
      "text/plain": [
       "HBox(children=(IntProgress(value=0, description='Nº c:55', max=10), HTML(value='')))"
      ]
     },
     "metadata": {},
     "output_type": "display_data"
    },
    {
     "data": {
      "application/vnd.jupyter.widget-view+json": {
       "model_id": "aa124aecefe249c3839d518d0bb77318",
       "version_major": 2,
       "version_minor": 0
      },
      "text/plain": [
       "HBox(children=(IntProgress(value=0, description='Nº c:60', max=10), HTML(value='')))"
      ]
     },
     "metadata": {},
     "output_type": "display_data"
    },
    {
     "data": {
      "application/vnd.jupyter.widget-view+json": {
       "model_id": "42e97859579b493abbbb4ecd3f704713",
       "version_major": 2,
       "version_minor": 0
      },
      "text/plain": [
       "HBox(children=(IntProgress(value=0, description='Nº c:65', max=10), HTML(value='')))"
      ]
     },
     "metadata": {},
     "output_type": "display_data"
    },
    {
     "data": {
      "application/vnd.jupyter.widget-view+json": {
       "model_id": "f7bb1aa062144931a951307726701013",
       "version_major": 2,
       "version_minor": 0
      },
      "text/plain": [
       "HBox(children=(IntProgress(value=0, description='Nº c:70', max=10), HTML(value='')))"
      ]
     },
     "metadata": {},
     "output_type": "display_data"
    },
    {
     "name": "stdout",
     "output_type": "stream",
     "text": [
      "---Sheffield---\n"
     ]
    },
    {
     "data": {
      "application/vnd.jupyter.widget-view+json": {
       "model_id": "b25001aabaa04cc49019e160eb4bec71",
       "version_major": 2,
       "version_minor": 0
      },
      "text/plain": [
       "HBox(children=(IntProgress(value=0, description='Progresso ', max=15), HTML(value='')))"
      ]
     },
     "metadata": {},
     "output_type": "display_data"
    },
    {
     "data": {
      "application/vnd.jupyter.widget-view+json": {
       "model_id": "7b8a8a77a70b42058bf0756712d18258",
       "version_major": 2,
       "version_minor": 0
      },
      "text/plain": [
       "HBox(children=(IntProgress(value=0, description='Nº c:1', max=10), HTML(value='')))"
      ]
     },
     "metadata": {},
     "output_type": "display_data"
    },
    {
     "data": {
      "application/vnd.jupyter.widget-view+json": {
       "model_id": "7719ed1b2fd3499b9fbbf263f6fbf037",
       "version_major": 2,
       "version_minor": 0
      },
      "text/plain": [
       "HBox(children=(IntProgress(value=0, description='Nº c:5', max=10), HTML(value='')))"
      ]
     },
     "metadata": {},
     "output_type": "display_data"
    },
    {
     "data": {
      "application/vnd.jupyter.widget-view+json": {
       "model_id": "355c0a7e542f49489aa81b365b9c3d6f",
       "version_major": 2,
       "version_minor": 0
      },
      "text/plain": [
       "HBox(children=(IntProgress(value=0, description='Nº c:10', max=10), HTML(value='')))"
      ]
     },
     "metadata": {},
     "output_type": "display_data"
    },
    {
     "data": {
      "application/vnd.jupyter.widget-view+json": {
       "model_id": "a1ce1d334ef2401db2dca803dc946591",
       "version_major": 2,
       "version_minor": 0
      },
      "text/plain": [
       "HBox(children=(IntProgress(value=0, description='Nº c:15', max=10), HTML(value='')))"
      ]
     },
     "metadata": {},
     "output_type": "display_data"
    },
    {
     "data": {
      "application/vnd.jupyter.widget-view+json": {
       "model_id": "7b5aae124a7849c59b49d75478c5abb2",
       "version_major": 2,
       "version_minor": 0
      },
      "text/plain": [
       "HBox(children=(IntProgress(value=0, description='Nº c:20', max=10), HTML(value='')))"
      ]
     },
     "metadata": {},
     "output_type": "display_data"
    },
    {
     "data": {
      "application/vnd.jupyter.widget-view+json": {
       "model_id": "aa907752d39c4d88a1f3122afaaebb7e",
       "version_major": 2,
       "version_minor": 0
      },
      "text/plain": [
       "HBox(children=(IntProgress(value=0, description='Nº c:25', max=10), HTML(value='')))"
      ]
     },
     "metadata": {},
     "output_type": "display_data"
    },
    {
     "data": {
      "application/vnd.jupyter.widget-view+json": {
       "model_id": "301753f21bff45a0a3dffe821f03556e",
       "version_major": 2,
       "version_minor": 0
      },
      "text/plain": [
       "HBox(children=(IntProgress(value=0, description='Nº c:30', max=10), HTML(value='')))"
      ]
     },
     "metadata": {},
     "output_type": "display_data"
    },
    {
     "data": {
      "application/vnd.jupyter.widget-view+json": {
       "model_id": "05f898bfc7fe4bd391d794fdea8fdcf4",
       "version_major": 2,
       "version_minor": 0
      },
      "text/plain": [
       "HBox(children=(IntProgress(value=0, description='Nº c:35', max=10), HTML(value='')))"
      ]
     },
     "metadata": {},
     "output_type": "display_data"
    },
    {
     "data": {
      "application/vnd.jupyter.widget-view+json": {
       "model_id": "5eaa89adff1345c8b7f32e09e6066905",
       "version_major": 2,
       "version_minor": 0
      },
      "text/plain": [
       "HBox(children=(IntProgress(value=0, description='Nº c:40', max=10), HTML(value='')))"
      ]
     },
     "metadata": {},
     "output_type": "display_data"
    },
    {
     "data": {
      "application/vnd.jupyter.widget-view+json": {
       "model_id": "bed7182f86c94f1583586e3081b49f96",
       "version_major": 2,
       "version_minor": 0
      },
      "text/plain": [
       "HBox(children=(IntProgress(value=0, description='Nº c:45', max=10), HTML(value='')))"
      ]
     },
     "metadata": {},
     "output_type": "display_data"
    },
    {
     "data": {
      "application/vnd.jupyter.widget-view+json": {
       "model_id": "1304d79cf99844c88af15ca03ee5146c",
       "version_major": 2,
       "version_minor": 0
      },
      "text/plain": [
       "HBox(children=(IntProgress(value=0, description='Nº c:50', max=10), HTML(value='')))"
      ]
     },
     "metadata": {},
     "output_type": "display_data"
    },
    {
     "data": {
      "application/vnd.jupyter.widget-view+json": {
       "model_id": "3c926f9524744e5a9407c36e956c5784",
       "version_major": 2,
       "version_minor": 0
      },
      "text/plain": [
       "HBox(children=(IntProgress(value=0, description='Nº c:55', max=10), HTML(value='')))"
      ]
     },
     "metadata": {},
     "output_type": "display_data"
    },
    {
     "data": {
      "application/vnd.jupyter.widget-view+json": {
       "model_id": "a367fb2db3374f6981eb66b33d75341f",
       "version_major": 2,
       "version_minor": 0
      },
      "text/plain": [
       "HBox(children=(IntProgress(value=0, description='Nº c:60', max=10), HTML(value='')))"
      ]
     },
     "metadata": {},
     "output_type": "display_data"
    },
    {
     "data": {
      "application/vnd.jupyter.widget-view+json": {
       "model_id": "9c47ccac8eff4c4caa30564fb8523df7",
       "version_major": 2,
       "version_minor": 0
      },
      "text/plain": [
       "HBox(children=(IntProgress(value=0, description='Nº c:65', max=10), HTML(value='')))"
      ]
     },
     "metadata": {},
     "output_type": "display_data"
    }
   ],
   "source": [
    "#calculando as acuracias (70 x 4)\n",
    "print(\"---Yale---\")\n",
    "X, Y = CarregarYaleFaces()\n",
    "acc_yale, std_yale = Experimento(X, Y)\n",
    "print(\"---AT&T---\")\n",
    "X, Y = CarregarAtt()\n",
    "acc_att, std_att = Experimento(X, Y)\n",
    "print(\"---Sheffield---\")\n",
    "X, Y = CarregarSheffield()\n",
    "acc_sheffield, std_sheffield = Experimento(X, Y)"
   ]
  },
  {
   "cell_type": "code",
   "execution_count": null,
   "metadata": {},
   "outputs": [],
   "source": [
    "ImprimirResultados(acc_yale, \"Yale Faces\")"
   ]
  },
  {
   "cell_type": "code",
   "execution_count": null,
   "metadata": {},
   "outputs": [],
   "source": [
    "ImprimirResultados(acc_att, \"AT&T Faces\")"
   ]
  },
  {
   "cell_type": "code",
   "execution_count": 121,
   "metadata": {},
   "outputs": [
    {
     "name": "stdout",
     "output_type": "stream",
     "text": [
      "15\n"
     ]
    },
    {
     "data": {
      "image/png": "[encoded data removed]",
      "text/plain": [
       "<Figure size 432x288 with 1 Axes>"
      ]
     },
     "metadata": {},
     "output_type": "display_data"
    }
   ],
   "source": [
    "ImprimirResultados(acc_sheffield, \"Sheffield Faces\")"
   ]
  },
  {
   "cell_type": "code",
   "execution_count": 135,
   "metadata": {},
   "outputs": [
    {
     "name": "stdout",
     "output_type": "stream",
     "text": [
      "\t+--------------------Yale--------------------+\n",
      "\t-----FPCA---------Eigenfaces-----F Eigenfaces-\n",
      "1\t25.060 +-0.038\t26.386 +-0.034\t25.060 +-0.038\n",
      "5\t62.289 +-0.067\t62.892 +-0.055\t62.289 +-0.067\n",
      "10\t66.747 +-0.050\t67.952 +-0.055\t66.747 +-0.050\n",
      "15\t68.193 +-0.076\t69.880 +-0.049\t68.193 +-0.076\n",
      "20\t70.964 +-0.065\t70.482 +-0.046\t70.964 +-0.065\n",
      "25\t74.699 +-0.065\t71.687 +-0.046\t74.699 +-0.065\n",
      "30\t76.265 +-0.064\t71.928 +-0.039\t76.265 +-0.064\n",
      "35\t76.145 +-0.067\t71.928 +-0.040\t76.145 +-0.067\n",
      "40\t77.952 +-0.064\t72.410 +-0.038\t77.831 +-0.063\n",
      "45\t77.952 +-0.072\t72.169 +-0.036\t77.952 +-0.072\n",
      "50\t78.554 +-0.069\t72.289 +-0.042\t78.675 +-0.068\n",
      "55\t78.675 +-0.066\t72.771 +-0.044\t78.675 +-0.066\n",
      "60\t78.554 +-0.065\t72.771 +-0.042\t78.554 +-0.065\n",
      "65\t78.795 +-0.068\t72.771 +-0.037\t78.916 +-0.068\n",
      "70\t78.795 +-0.070\t72.651 +-0.038\t78.795 +-0.068\n",
      "\t---------------------AT&T---------------------\n",
      "\t-----FPCA---------Eigenfaces-----F Eigenfaces-\n",
      "1\t21.050 +-0.056\t15.800 +-0.013\t21.050 +-0.056\n",
      "5\t58.700 +-0.021\t61.800 +-0.016\t58.700 +-0.021\n",
      "10\t61.150 +-0.019\t62.350 +-0.023\t61.150 +-0.019\n",
      "15\t59.200 +-0.030\t61.100 +-0.023\t59.200 +-0.030\n",
      "20\t58.900 +-0.034\t59.550 +-0.023\t58.900 +-0.034\n",
      "25\t58.950 +-0.037\t59.350 +-0.023\t58.950 +-0.037\n",
      "30\t58.950 +-0.037\t59.350 +-0.023\t58.950 +-0.037\n",
      "35\t58.950 +-0.037\t59.350 +-0.023\t58.950 +-0.037\n",
      "40\t58.950 +-0.037\t59.350 +-0.023\t58.950 +-0.037\n",
      "45\t58.950 +-0.037\t59.350 +-0.023\t58.950 +-0.037\n",
      "50\t58.950 +-0.037\t59.350 +-0.023\t58.950 +-0.037\n",
      "55\t58.950 +-0.037\t59.350 +-0.023\t58.950 +-0.037\n",
      "60\t58.950 +-0.037\t59.350 +-0.023\t58.950 +-0.037\n",
      "65\t58.950 +-0.037\t59.350 +-0.023\t58.950 +-0.037\n",
      "70\t58.950 +-0.037\t59.350 +-0.023\t58.950 +-0.037\n",
      "\t------------------Sheffield-------------------\n",
      "\t-----FPCA---------Eigenfaces-----F Eigenfaces-\n",
      "1\t28.021 +-0.079\t19.931 +-0.022\t28.021 +-0.079\n",
      "5\t75.417 +-0.025\t78.160 +-0.023\t75.417 +-0.025\n",
      "10\t83.299 +-0.027\t80.347 +-0.021\t83.299 +-0.027\n",
      "15\t83.854 +-0.027\t79.931 +-0.025\t83.854 +-0.027\n",
      "20\t83.264 +-0.021\t80.139 +-0.026\t83.264 +-0.021\n",
      "25\t82.917 +-0.019\t80.312 +-0.027\t82.917 +-0.019\n",
      "30\t82.882 +-0.019\t80.312 +-0.027\t82.882 +-0.019\n",
      "35\t82.882 +-0.019\t80.312 +-0.027\t82.882 +-0.019\n",
      "40\t82.882 +-0.019\t80.312 +-0.027\t82.882 +-0.019\n",
      "45\t82.882 +-0.019\t80.312 +-0.027\t82.882 +-0.019\n",
      "50\t82.882 +-0.019\t80.312 +-0.027\t82.882 +-0.019\n",
      "55\t82.882 +-0.019\t80.312 +-0.027\t82.882 +-0.019\n",
      "60\t82.882 +-0.019\t80.312 +-0.027\t82.882 +-0.019\n",
      "65\t82.882 +-0.019\t80.312 +-0.027\t82.882 +-0.019\n",
      "70\t82.882 +-0.019\t80.312 +-0.027\t82.882 +-0.019\n"
     ]
    }
   ],
   "source": [
    "print(\"\\t+--------------------Yale--------------------+\")\n",
    "print(\"\\t-----FPCA---------Eigenfaces-----F Eigenfaces-\")\n",
    "ImprimirTabela(acc_yale, std_yale)\n",
    "\n",
    "print(\"\\t---------------------AT&T---------------------\")\n",
    "print(\"\\t-----FPCA---------Eigenfaces-----F Eigenfaces-\")\n",
    "ImprimirTabela(acc_att, std_att)\n",
    "\n",
    "print(\"\\t------------------Sheffield-------------------\")\n",
    "print(\"\\t-----FPCA---------Eigenfaces-----F Eigenfaces-\")\n",
    "ImprimirTabela(acc_sheffield, std_sheffield)"
   ]
  },
  {
   "cell_type": "code",
   "execution_count": null,
   "metadata": {},
   "outputs": [],
   "source": []
  }
 ],
 "metadata": {
  "kernelspec": {
   "display_name": "Python 3",
   "language": "python",
   "name": "python3"
  },
  "language_info": {
   "codemirror_mode": {
    "name": "ipython",
    "version": 3
   },
   "file_extension": ".py",
   "mimetype": "text/x-python",
   "name": "python",
   "nbconvert_exporter": "python",
   "pygments_lexer": "ipython3",
   "version": "3.6.4"
  }
 },
 "nbformat": 4,
 "nbformat_minor": 2
}
