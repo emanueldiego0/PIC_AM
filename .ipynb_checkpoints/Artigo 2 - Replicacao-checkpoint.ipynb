{
 "cells": [
  {
   "cell_type": "code",
   "execution_count": 29,
   "metadata": {},
   "outputs": [
    {
     "data": {
      "text/plain": [
       "'C:\\\\Users\\\\USUARIO\\\\Desktop\\\\eigenfaces\\\\PIC-EigenfacesFracionario'"
      ]
     },
     "execution_count": 29,
     "metadata": {},
     "output_type": "execute_result"
    }
   ],
   "source": [
    "import os\n",
    "import glob\n",
    "import imageio\n",
    "import numpy as np\n",
    "import matplotlib.pyplot as plt\n",
    "import cv2\n",
    "from sklearn.neighbors import KNeighborsClassifier\n",
    "from sklearn.model_selection import train_test_split\n",
    "\n",
    "%matplotlib inline\n",
    "\n",
    "HOLDOUT = 10\n",
    "R = 0.01\n",
    "os.chdir(\"C:\\\\Users\\\\USUARIO\\\\Desktop\\\\eigenfaces\\\\PIC-EigenfacesFracionario\\\\\")\n",
    "os.getcwd()"
   ]
  },
  {
   "cell_type": "code",
   "execution_count": 55,
   "metadata": {},
   "outputs": [],
   "source": [
    "def CarregarYaleFaces():\n",
    "    files = glob.glob(\"databases/yalefaces/*\")\n",
    "    images_yale = [np.array(imageio.mimread(file))[0] for file in files]\n",
    "    images_yale_resized = [cv2.resize(image, dsize=(28, 23), interpolation=cv2.INTER_CUBIC) for image in images_yale]\n",
    "    images_yale_resized = np.array(images_yale_resized)\n",
    "    images_yale_flatten = [image.flatten() for image in images_yale_resized]\n",
    "    images_yale_flatten = np.array(images_yale_flatten)\n",
    "    #print('#Amostras (n): '+str(images_yale_flatten.shape[0]))\n",
    "    #print('#Features (m): '+str(images_yale_flatten.shape[1]))\n",
    "    Y = [f.split('.')[0] for f in files]\n",
    "    return images_yale_flatten, Y"
   ]
  },
  {
   "cell_type": "code",
   "execution_count": 56,
   "metadata": {},
   "outputs": [],
   "source": [
    "def PCA(X, k):\n",
    "    n = X.shape[0]\n",
    "    m = X.shape[1]\n",
    "    mean = np.mean(X, axis = 0)\n",
    "    #matriz de covariancia m x m\n",
    "    C = np.zeros((m, m))\n",
    "    for i in range(n):\n",
    "        a = X[i].T.reshape(m,1) - mean.T.reshape(m,1)\n",
    "        b = X[i] - mean\n",
    "        C = C + (a * b)\n",
    "    C = 1./n * C\n",
    "    val, vec = np.linalg.eig(C)\n",
    "    X_ = vec.T.dot((X - mean).T)\n",
    "    return X_.T[:,:k]"
   ]
  },
  {
   "cell_type": "code",
   "execution_count": 57,
   "metadata": {},
   "outputs": [],
   "source": [
    "def FPCA(X, k, r):\n",
    "    n = X.shape[0]\n",
    "    m = X.shape[1]\n",
    "    mean = np.mean(X, axis = 0)\n",
    "    mean = np.power(mean, r)\n",
    "    X = np.power(X, r)\n",
    "    #matriz de covariancia m x m\n",
    "    C = np.zeros((m, m))\n",
    "    for i in range(n):\n",
    "        a = X[i].T.reshape(m,1) - mean.T.reshape(m,1)\n",
    "        b = X[i] - mean\n",
    "        C = C + (a * b)\n",
    "    C = 1./n * C\n",
    "    val, vec = np.linalg.eig(C)\n",
    "    X_ = vec.T.dot((X - mean).T)\n",
    "    return X_.T[:,:k]"
   ]
  },
  {
   "cell_type": "code",
   "execution_count": 58,
   "metadata": {},
   "outputs": [],
   "source": [
    "def Eigenfaces(X, k):\n",
    "    n = X.shape[0]\n",
    "    m = X.shape[1]\n",
    "    mean = np.mean(X, axis = 0)\n",
    "    D = np.zeros((n, n))\n",
    "    for j in range(m):\n",
    "        a = X[:,j] - X[:,j].mean()\n",
    "        a = a.reshape(n,1)\n",
    "        b = a.T\n",
    "        D = D + (a * b)\n",
    "    val, vec = np.linalg.eig(D)\n",
    "    val = np.abs(val)\n",
    "    vec_c = 1. / np.power((n * val), 0.5) #eq 7\n",
    "    vec_c = vec_c * (X - mean).T.dot(vec) #eq 7\n",
    "    X_ = vec_c.T.dot((X - mean).T)\n",
    "    return X_.T[:,:k]"
   ]
  },
  {
   "cell_type": "code",
   "execution_count": 59,
   "metadata": {},
   "outputs": [],
   "source": [
    "def F_Eigenfaces(X, k, r):\n",
    "    n = X.shape[0]\n",
    "    m = X.shape[1]\n",
    "    mean = np.mean(X, axis = 0)\n",
    "    D = np.zeros((n, n))\n",
    "    for j in range(m):\n",
    "        a = np.power(X[:,j], r) - np.power(X[:,j].mean(), r)\n",
    "        a = a.reshape(n,1)\n",
    "        b = a.T\n",
    "        D = D + (a * b)\n",
    "    val, vec = np.linalg.eig(D)\n",
    "    val = np.abs(val)\n",
    "    vec_c = 1. / np.power((n * val), 0.5)\n",
    "    vec_c = vec_c * (np.power(X, r) - np.power(mean,r)).T.dot(vec)\n",
    "    X_ = vec_c.T.dot((np.power(X,r) - np.power(mean,r)).T)\n",
    "    return X_.T[:,:k]"
   ]
  },
  {
   "cell_type": "code",
   "execution_count": 60,
   "metadata": {},
   "outputs": [],
   "source": [
    "def AvaliarClassificadores(X, Y):\n",
    "    scores_1nn = []\n",
    "    \n",
    "    for i in range(HOLDOUT):\n",
    "        X_train, X_test, y_train, y_test = train_test_split(X, Y, test_size=0.5, random_state=0)\n",
    "        clf_1nn = KNeighborsClassifier(n_neighbors=1).fit(X_train, y_train)\n",
    "        scores_1nn.append(clf_1nn.score(X_test, y_test))\n",
    "\n",
    "    scores_1nn = np.array(scores_1nn).mean() * 100\n",
    "    return scores_1nn"
   ]
  },
  {
   "cell_type": "code",
   "execution_count": 61,
   "metadata": {},
   "outputs": [
    {
     "name": "stderr",
     "output_type": "stream",
     "text": [
      "C:\\Users\\USUARIO\\Anaconda3\\lib\\site-packages\\numpy\\core\\numeric.py:492: ComplexWarning: Casting complex values to real discards the imaginary part\n",
      "  return array(a, dtype, copy=False, order=order)\n",
      "C:\\Users\\USUARIO\\Anaconda3\\lib\\site-packages\\sklearn\\utils\\validation.py:433: ComplexWarning: Casting complex values to real discards the imaginary part\n",
      "  array = np.array(array, dtype=dtype, order=order, copy=copy)\n"
     ]
    }
   ],
   "source": [
    "images_yale, Y = CarregarYaleFaces()\n",
    "acc_yale = []\n",
    "acc_att = []\n",
    "acc_sheffield = []\n",
    "for n in range(1, 71):\n",
    "    X_pca  = PCA(images_yale, n)\n",
    "    X_fpca = FPCA(images_yale, n, R)\n",
    "    X_eige = Eigenfaces(images_yale, n)\n",
    "    X_feig = F_Eigenfaces(images_yale, n, R)\n",
    "    s_pca  = AvaliarClassificadores(X_pca, Y)\n",
    "    s_fpca = AvaliarClassificadores(X_fpca, Y)\n",
    "    s_eige = AvaliarClassificadores(X_eige, Y)\n",
    "    s_feig = AvaliarClassificadores(X_feig, Y)\n",
    "    acc_yale.append([s_pca,s_fpca,s_eige,s_feig])\n",
    "acc_yale = np.array(acc_yale)"
   ]
  },
  {
   "cell_type": "code",
   "execution_count": 66,
   "metadata": {},
   "outputs": [
    {
     "data": {
      "image/png": "[encoded data removed]",
      "text/plain": [
       "<Figure size 432x288 with 1 Axes>"
      ]
     },
     "metadata": {},
     "output_type": "display_data"
    }
   ],
   "source": [
    "x = np.arange(1, 71)\n",
    "#plt.figure(figsize=(20,15))\n",
    "plt.title(\"Dataset: Yale Faces - Classifier: 1-NN\")\n",
    "plt.plot(x, acc_yale[:,0], color='black')\n",
    "plt.plot(x, acc_yale[:,1], color='red')\n",
    "plt.plot(x, acc_yale[:,2], color='blue')\n",
    "plt.plot(x, acc_yale[:,3], color='yellow')\n",
    "plt.ylabel('Acuracia media')\n",
    "plt.xlabel('Numero de componentes')\n",
    "plt.legend(labels=['PCA','FPCA','Eigenfaces','F Eigenfaces'])\n",
    "plt.grid()\n",
    "plt.show()"
   ]
  },
  {
   "cell_type": "code",
   "execution_count": null,
   "metadata": {},
   "outputs": [],
   "source": []
  }
 ],
 "metadata": {
  "kernelspec": {
   "display_name": "Python 3",
   "language": "python",
   "name": "python3"
  },
  "language_info": {
   "codemirror_mode": {
    "name": "ipython",
    "version": 3
   },
   "file_extension": ".py",
   "mimetype": "text/x-python",
   "name": "python",
   "nbconvert_exporter": "python",
   "pygments_lexer": "ipython3",
   "version": "3.6.5"
  }
 },
 "nbformat": 4,
 "nbformat_minor": 2
}
